{
 "cells": [
  {
   "cell_type": "code",
   "execution_count": 1,
   "id": "2d99df4f",
   "metadata": {},
   "outputs": [],
   "source": [
    "import pandas as pd"
   ]
  },
  {
   "cell_type": "code",
   "execution_count": 2,
   "id": "42998b87",
   "metadata": {},
   "outputs": [
    {
     "name": "stderr",
     "output_type": "stream",
     "text": [
      "/opt/anaconda3/envs/BigVision/lib/python3.9/site-packages/IPython/core/interactiveshell.py:3441: DtypeWarning: Columns (135,204,274,417) have mixed types.Specify dtype option on import or set low_memory=False.\n",
      "  exec(code_obj, self.user_global_ns, self.user_ns)\n"
     ]
    },
    {
     "data": {
      "text/html": [
       "<div>\n",
       "<style scoped>\n",
       "    .dataframe tbody tr th:only-of-type {\n",
       "        vertical-align: middle;\n",
       "    }\n",
       "\n",
       "    .dataframe tbody tr th {\n",
       "        vertical-align: top;\n",
       "    }\n",
       "\n",
       "    .dataframe thead th {\n",
       "        text-align: right;\n",
       "    }\n",
       "</style>\n",
       "<table border=\"1\" class=\"dataframe\">\n",
       "  <thead>\n",
       "    <tr style=\"text-align: right;\">\n",
       "      <th></th>\n",
       "      <th>id</th>\n",
       "      <th>f1</th>\n",
       "      <th>f2</th>\n",
       "      <th>f3</th>\n",
       "      <th>f4</th>\n",
       "      <th>f5</th>\n",
       "      <th>f6</th>\n",
       "      <th>f7</th>\n",
       "      <th>f8</th>\n",
       "      <th>f9</th>\n",
       "      <th>...</th>\n",
       "      <th>f770</th>\n",
       "      <th>f771</th>\n",
       "      <th>f772</th>\n",
       "      <th>f773</th>\n",
       "      <th>f774</th>\n",
       "      <th>f775</th>\n",
       "      <th>f776</th>\n",
       "      <th>f777</th>\n",
       "      <th>f778</th>\n",
       "      <th>loss</th>\n",
       "    </tr>\n",
       "  </thead>\n",
       "  <tbody>\n",
       "    <tr>\n",
       "      <th>0</th>\n",
       "      <td>1</td>\n",
       "      <td>126</td>\n",
       "      <td>10</td>\n",
       "      <td>0.686842</td>\n",
       "      <td>1100</td>\n",
       "      <td>3</td>\n",
       "      <td>13699</td>\n",
       "      <td>7201.0</td>\n",
       "      <td>4949.0</td>\n",
       "      <td>126.75</td>\n",
       "      <td>...</td>\n",
       "      <td>5</td>\n",
       "      <td>2.14</td>\n",
       "      <td>-1.54</td>\n",
       "      <td>1.18</td>\n",
       "      <td>0.1833</td>\n",
       "      <td>0.7873</td>\n",
       "      <td>1</td>\n",
       "      <td>0</td>\n",
       "      <td>5</td>\n",
       "      <td>0</td>\n",
       "    </tr>\n",
       "    <tr>\n",
       "      <th>1</th>\n",
       "      <td>2</td>\n",
       "      <td>121</td>\n",
       "      <td>10</td>\n",
       "      <td>0.782776</td>\n",
       "      <td>1100</td>\n",
       "      <td>3</td>\n",
       "      <td>84645</td>\n",
       "      <td>240.0</td>\n",
       "      <td>1625.0</td>\n",
       "      <td>123.52</td>\n",
       "      <td>...</td>\n",
       "      <td>6</td>\n",
       "      <td>0.54</td>\n",
       "      <td>-0.24</td>\n",
       "      <td>0.13</td>\n",
       "      <td>0.1926</td>\n",
       "      <td>-0.6787</td>\n",
       "      <td>1</td>\n",
       "      <td>0</td>\n",
       "      <td>5</td>\n",
       "      <td>0</td>\n",
       "    </tr>\n",
       "    <tr>\n",
       "      <th>2</th>\n",
       "      <td>3</td>\n",
       "      <td>126</td>\n",
       "      <td>10</td>\n",
       "      <td>0.500080</td>\n",
       "      <td>1100</td>\n",
       "      <td>3</td>\n",
       "      <td>83607</td>\n",
       "      <td>1800.0</td>\n",
       "      <td>1527.0</td>\n",
       "      <td>127.76</td>\n",
       "      <td>...</td>\n",
       "      <td>13</td>\n",
       "      <td>2.89</td>\n",
       "      <td>-1.73</td>\n",
       "      <td>1.04</td>\n",
       "      <td>0.2521</td>\n",
       "      <td>0.7258</td>\n",
       "      <td>1</td>\n",
       "      <td>0</td>\n",
       "      <td>5</td>\n",
       "      <td>0</td>\n",
       "    </tr>\n",
       "    <tr>\n",
       "      <th>3</th>\n",
       "      <td>4</td>\n",
       "      <td>134</td>\n",
       "      <td>10</td>\n",
       "      <td>0.439874</td>\n",
       "      <td>1100</td>\n",
       "      <td>3</td>\n",
       "      <td>82642</td>\n",
       "      <td>7542.0</td>\n",
       "      <td>1730.0</td>\n",
       "      <td>132.94</td>\n",
       "      <td>...</td>\n",
       "      <td>4</td>\n",
       "      <td>1.29</td>\n",
       "      <td>-0.89</td>\n",
       "      <td>0.66</td>\n",
       "      <td>0.2498</td>\n",
       "      <td>0.7119</td>\n",
       "      <td>1</td>\n",
       "      <td>0</td>\n",
       "      <td>5</td>\n",
       "      <td>0</td>\n",
       "    </tr>\n",
       "    <tr>\n",
       "      <th>4</th>\n",
       "      <td>5</td>\n",
       "      <td>109</td>\n",
       "      <td>9</td>\n",
       "      <td>0.502749</td>\n",
       "      <td>2900</td>\n",
       "      <td>4</td>\n",
       "      <td>79124</td>\n",
       "      <td>89.0</td>\n",
       "      <td>491.0</td>\n",
       "      <td>122.72</td>\n",
       "      <td>...</td>\n",
       "      <td>26</td>\n",
       "      <td>6.11</td>\n",
       "      <td>-3.82</td>\n",
       "      <td>2.51</td>\n",
       "      <td>0.2282</td>\n",
       "      <td>-0.5399</td>\n",
       "      <td>0</td>\n",
       "      <td>0</td>\n",
       "      <td>5</td>\n",
       "      <td>0</td>\n",
       "    </tr>\n",
       "  </tbody>\n",
       "</table>\n",
       "<p>5 rows × 771 columns</p>\n",
       "</div>"
      ],
      "text/plain": [
       "   id   f1  f2        f3    f4  f5     f6      f7      f8      f9  ...  f770  \\\n",
       "0   1  126  10  0.686842  1100   3  13699  7201.0  4949.0  126.75  ...     5   \n",
       "1   2  121  10  0.782776  1100   3  84645   240.0  1625.0  123.52  ...     6   \n",
       "2   3  126  10  0.500080  1100   3  83607  1800.0  1527.0  127.76  ...    13   \n",
       "3   4  134  10  0.439874  1100   3  82642  7542.0  1730.0  132.94  ...     4   \n",
       "4   5  109   9  0.502749  2900   4  79124    89.0   491.0  122.72  ...    26   \n",
       "\n",
       "   f771  f772  f773    f774    f775  f776  f777  f778  loss  \n",
       "0  2.14 -1.54  1.18  0.1833  0.7873     1     0     5     0  \n",
       "1  0.54 -0.24  0.13  0.1926 -0.6787     1     0     5     0  \n",
       "2  2.89 -1.73  1.04  0.2521  0.7258     1     0     5     0  \n",
       "3  1.29 -0.89  0.66  0.2498  0.7119     1     0     5     0  \n",
       "4  6.11 -3.82  2.51  0.2282 -0.5399     0     0     5     0  \n",
       "\n",
       "[5 rows x 771 columns]"
      ]
     },
     "execution_count": 2,
     "metadata": {},
     "output_type": "execute_result"
    }
   ],
   "source": [
    "df = pd.read_csv('train_v2.csv')\n",
    "\n",
    "df.head()"
   ]
  },
  {
   "cell_type": "code",
   "execution_count": 3,
   "id": "cf342085",
   "metadata": {},
   "outputs": [
    {
     "data": {
      "text/plain": [
       "0         0\n",
       "1         0\n",
       "2         0\n",
       "3         0\n",
       "4         0\n",
       "         ..\n",
       "105466    0\n",
       "105467    0\n",
       "105468    0\n",
       "105469    0\n",
       "105470    0\n",
       "Name: loss, Length: 105471, dtype: int64"
      ]
     },
     "execution_count": 3,
     "metadata": {},
     "output_type": "execute_result"
    }
   ],
   "source": [
    "\n",
    "import numpy as np\n",
    "dtypes_df = pd.DataFrame(df.dtypes).reset_index()\n",
    "dtypes_df[0].unique()\n",
    "\n",
    "object_columns = dtypes_df[dtypes_df[0]=='O']['index'].tolist()\n",
    "\n",
    "df[object_columns][object_columns[0]]\n",
    "\n",
    "df_float64 = df.drop(object_columns, axis=1)\n",
    "\n",
    "df_float64['loss']"
   ]
  },
  {
   "cell_type": "code",
   "execution_count": 4,
   "id": "a0c15a83",
   "metadata": {},
   "outputs": [],
   "source": [
    "import pandas as pd\n",
    "from sklearn import preprocessing\n",
    "\n",
    "COLUMNS = df_float64.columns\n",
    "x = df_float64.to_numpy() #returns a numpy array\n",
    "min_max_scaler = preprocessing.MinMaxScaler()\n",
    "x_scaled = min_max_scaler.fit_transform(x)\n",
    "df_float64 = pd.DataFrame(x_scaled)"
   ]
  },
  {
   "cell_type": "code",
   "execution_count": 5,
   "id": "c16189ee",
   "metadata": {},
   "outputs": [
    {
     "data": {
      "text/plain": [
       "Index(['id', 'f1', 'f2', 'f3', 'f4', 'f5', 'f6', 'f7', 'f8', 'f9',\n",
       "       ...\n",
       "       'f770', 'f771', 'f772', 'f773', 'f774', 'f775', 'f776', 'f777', 'f778',\n",
       "       'loss'],\n",
       "      dtype='object', length=752)"
      ]
     },
     "execution_count": 5,
     "metadata": {},
     "output_type": "execute_result"
    }
   ],
   "source": [
    "df_float64.columns = COLUMNS\n",
    "df_float64.columns "
   ]
  },
  {
   "cell_type": "code",
   "execution_count": 6,
   "id": "1fa88822",
   "metadata": {},
   "outputs": [],
   "source": [
    "\n",
    "df_float64['loss'] = df_float64['loss'].apply( lambda x: 1 if x>0 else 0)\n",
    "df_filtered = df_float64"
   ]
  },
  {
   "cell_type": "code",
   "execution_count": 7,
   "id": "8503c4d6",
   "metadata": {},
   "outputs": [
    {
     "data": {
      "text/html": [
       "<div>\n",
       "<style scoped>\n",
       "    .dataframe tbody tr th:only-of-type {\n",
       "        vertical-align: middle;\n",
       "    }\n",
       "\n",
       "    .dataframe tbody tr th {\n",
       "        vertical-align: top;\n",
       "    }\n",
       "\n",
       "    .dataframe thead th {\n",
       "        text-align: right;\n",
       "    }\n",
       "</style>\n",
       "<table border=\"1\" class=\"dataframe\">\n",
       "  <thead>\n",
       "    <tr style=\"text-align: right;\">\n",
       "      <th></th>\n",
       "      <th>id</th>\n",
       "      <th>f1</th>\n",
       "      <th>f2</th>\n",
       "      <th>f3</th>\n",
       "      <th>f4</th>\n",
       "      <th>f5</th>\n",
       "      <th>f6</th>\n",
       "      <th>f7</th>\n",
       "      <th>f8</th>\n",
       "      <th>f9</th>\n",
       "      <th>...</th>\n",
       "      <th>f770</th>\n",
       "      <th>f771</th>\n",
       "      <th>f772</th>\n",
       "      <th>f773</th>\n",
       "      <th>f774</th>\n",
       "      <th>f775</th>\n",
       "      <th>f776</th>\n",
       "      <th>f777</th>\n",
       "      <th>f778</th>\n",
       "      <th>loss</th>\n",
       "    </tr>\n",
       "  </thead>\n",
       "  <tbody>\n",
       "    <tr>\n",
       "      <th>0</th>\n",
       "      <td>0.000000</td>\n",
       "      <td>0.315068</td>\n",
       "      <td>0.9</td>\n",
       "      <td>0.686844</td>\n",
       "      <td>0.000000</td>\n",
       "      <td>0.1250</td>\n",
       "      <td>0.154677</td>\n",
       "      <td>0.722384</td>\n",
       "      <td>0.428769</td>\n",
       "      <td>0.301376</td>\n",
       "      <td>...</td>\n",
       "      <td>0.018072</td>\n",
       "      <td>0.036820</td>\n",
       "      <td>0.964319</td>\n",
       "      <td>0.034665</td>\n",
       "      <td>0.386954</td>\n",
       "      <td>0.651062</td>\n",
       "      <td>1.0</td>\n",
       "      <td>0.0</td>\n",
       "      <td>0.002479</td>\n",
       "      <td>0</td>\n",
       "    </tr>\n",
       "    <tr>\n",
       "      <th>1</th>\n",
       "      <td>0.000009</td>\n",
       "      <td>0.246575</td>\n",
       "      <td>0.9</td>\n",
       "      <td>0.782779</td>\n",
       "      <td>0.000000</td>\n",
       "      <td>0.1250</td>\n",
       "      <td>0.955739</td>\n",
       "      <td>0.023979</td>\n",
       "      <td>0.140728</td>\n",
       "      <td>0.252533</td>\n",
       "      <td>...</td>\n",
       "      <td>0.024096</td>\n",
       "      <td>0.009291</td>\n",
       "      <td>0.994439</td>\n",
       "      <td>0.003819</td>\n",
       "      <td>0.406586</td>\n",
       "      <td>0.601420</td>\n",
       "      <td>1.0</td>\n",
       "      <td>0.0</td>\n",
       "      <td>0.002479</td>\n",
       "      <td>0</td>\n",
       "    </tr>\n",
       "    <tr>\n",
       "      <th>2</th>\n",
       "      <td>0.000019</td>\n",
       "      <td>0.315068</td>\n",
       "      <td>0.9</td>\n",
       "      <td>0.500080</td>\n",
       "      <td>0.000000</td>\n",
       "      <td>0.1250</td>\n",
       "      <td>0.944019</td>\n",
       "      <td>0.180496</td>\n",
       "      <td>0.132236</td>\n",
       "      <td>0.316649</td>\n",
       "      <td>...</td>\n",
       "      <td>0.066265</td>\n",
       "      <td>0.049725</td>\n",
       "      <td>0.959917</td>\n",
       "      <td>0.030552</td>\n",
       "      <td>0.532193</td>\n",
       "      <td>0.648979</td>\n",
       "      <td>1.0</td>\n",
       "      <td>0.0</td>\n",
       "      <td>0.002479</td>\n",
       "      <td>0</td>\n",
       "    </tr>\n",
       "    <tr>\n",
       "      <th>3</th>\n",
       "      <td>0.000028</td>\n",
       "      <td>0.424658</td>\n",
       "      <td>0.9</td>\n",
       "      <td>0.439873</td>\n",
       "      <td>0.000000</td>\n",
       "      <td>0.1250</td>\n",
       "      <td>0.933123</td>\n",
       "      <td>0.756597</td>\n",
       "      <td>0.149827</td>\n",
       "      <td>0.394980</td>\n",
       "      <td>...</td>\n",
       "      <td>0.012048</td>\n",
       "      <td>0.022195</td>\n",
       "      <td>0.979379</td>\n",
       "      <td>0.019389</td>\n",
       "      <td>0.527338</td>\n",
       "      <td>0.648509</td>\n",
       "      <td>1.0</td>\n",
       "      <td>0.0</td>\n",
       "      <td>0.002479</td>\n",
       "      <td>0</td>\n",
       "    </tr>\n",
       "    <tr>\n",
       "      <th>4</th>\n",
       "      <td>0.000038</td>\n",
       "      <td>0.082192</td>\n",
       "      <td>0.8</td>\n",
       "      <td>0.502749</td>\n",
       "      <td>0.264706</td>\n",
       "      <td>0.1875</td>\n",
       "      <td>0.893400</td>\n",
       "      <td>0.008829</td>\n",
       "      <td>0.042461</td>\n",
       "      <td>0.240436</td>\n",
       "      <td>...</td>\n",
       "      <td>0.144578</td>\n",
       "      <td>0.105127</td>\n",
       "      <td>0.911492</td>\n",
       "      <td>0.073737</td>\n",
       "      <td>0.481739</td>\n",
       "      <td>0.606120</td>\n",
       "      <td>0.0</td>\n",
       "      <td>0.0</td>\n",
       "      <td>0.002479</td>\n",
       "      <td>0</td>\n",
       "    </tr>\n",
       "  </tbody>\n",
       "</table>\n",
       "<p>5 rows × 752 columns</p>\n",
       "</div>"
      ],
      "text/plain": [
       "         id        f1   f2        f3        f4      f5        f6        f7  \\\n",
       "0  0.000000  0.315068  0.9  0.686844  0.000000  0.1250  0.154677  0.722384   \n",
       "1  0.000009  0.246575  0.9  0.782779  0.000000  0.1250  0.955739  0.023979   \n",
       "2  0.000019  0.315068  0.9  0.500080  0.000000  0.1250  0.944019  0.180496   \n",
       "3  0.000028  0.424658  0.9  0.439873  0.000000  0.1250  0.933123  0.756597   \n",
       "4  0.000038  0.082192  0.8  0.502749  0.264706  0.1875  0.893400  0.008829   \n",
       "\n",
       "         f8        f9  ...      f770      f771      f772      f773      f774  \\\n",
       "0  0.428769  0.301376  ...  0.018072  0.036820  0.964319  0.034665  0.386954   \n",
       "1  0.140728  0.252533  ...  0.024096  0.009291  0.994439  0.003819  0.406586   \n",
       "2  0.132236  0.316649  ...  0.066265  0.049725  0.959917  0.030552  0.532193   \n",
       "3  0.149827  0.394980  ...  0.012048  0.022195  0.979379  0.019389  0.527338   \n",
       "4  0.042461  0.240436  ...  0.144578  0.105127  0.911492  0.073737  0.481739   \n",
       "\n",
       "       f775  f776  f777      f778  loss  \n",
       "0  0.651062   1.0   0.0  0.002479     0  \n",
       "1  0.601420   1.0   0.0  0.002479     0  \n",
       "2  0.648979   1.0   0.0  0.002479     0  \n",
       "3  0.648509   1.0   0.0  0.002479     0  \n",
       "4  0.606120   0.0   0.0  0.002479     0  \n",
       "\n",
       "[5 rows x 752 columns]"
      ]
     },
     "execution_count": 7,
     "metadata": {},
     "output_type": "execute_result"
    }
   ],
   "source": [
    "df_filtered.head()"
   ]
  },
  {
   "cell_type": "code",
   "execution_count": 8,
   "id": "3c2a77aa",
   "metadata": {},
   "outputs": [
    {
     "data": {
      "text/plain": [
       "2"
      ]
     },
     "execution_count": 8,
     "metadata": {},
     "output_type": "execute_result"
    }
   ],
   "source": [
    "df_filtered['loss'].nunique()"
   ]
  },
  {
   "cell_type": "code",
   "execution_count": 15,
   "id": "e9c8e399",
   "metadata": {},
   "outputs": [
    {
     "data": {
      "image/png": "[encoded data removed]",
      "text/plain": [
       "<Figure size 504x720 with 1 Axes>"
      ]
     },
     "metadata": {
      "needs_background": "light"
     },
     "output_type": "display_data"
    }
   ],
   "source": [
    "import matplotlib.pyplot as plt\n",
    "plt.figure(figsize=(7,10))\n",
    "plt.hist(df_filtered['loss']);"
   ]
  },
  {
   "cell_type": "markdown",
   "id": "548faa31",
   "metadata": {},
   "source": [
    "As clearly seen, the dataset is unbalanced causing ML models to not learn well."
   ]
  },
  {
   "cell_type": "code",
   "execution_count": 18,
   "id": "e19fb03b",
   "metadata": {},
   "outputs": [],
   "source": [
    "from sklearn.model_selection import train_test_split\n",
    "\n",
    "x = df_filtered.drop(columns=[\"loss\"]).fillna(0).to_numpy()\n",
    "y = df_filtered['loss'].to_numpy()\n",
    "\n",
    "x_train, x_test, y_train, y_test = train_test_split(x, y, test_size=0.33, random_state=8)"
   ]
  },
  {
   "cell_type": "markdown",
   "id": "3e44dbee",
   "metadata": {},
   "source": [
    "#  BalancedBaggingClassifier"
   ]
  },
  {
   "cell_type": "code",
   "execution_count": 19,
   "id": "b22cfb25",
   "metadata": {},
   "outputs": [],
   "source": [
    "from imblearn.ensemble import BalancedBaggingClassifier\n",
    "from sklearn.tree import DecisionTreeClassifier\n",
    "\n",
    "#Create an object of the classifier.\n",
    "bbc = BalancedBaggingClassifier(base_estimator=DecisionTreeClassifier(),\n",
    "                                sampling_strategy='auto',\n",
    "                                replacement=False,\n",
    "                                random_state=0)\n",
    "#Train the classifier.\n",
    "bbc.fit(x_train, y_train)\n",
    "preds = bbc.predict(x_test)"
   ]
  },
  {
   "cell_type": "code",
   "execution_count": 23,
   "id": "aa75b4f8",
   "metadata": {},
   "outputs": [
    {
     "name": "stdout",
     "output_type": "stream",
     "text": [
      "[[25562  6064]\n",
      " [ 2068  1112]]\n"
     ]
    },
    {
     "data": {
      "text/plain": [
       "<sklearn.metrics._plot.confusion_matrix.ConfusionMatrixDisplay at 0x1310c8880>"
      ]
     },
     "execution_count": 23,
     "metadata": {},
     "output_type": "execute_result"
    },
    {
     "data": {
      "text/plain": [
       "<Figure size 720x720 with 0 Axes>"
      ]
     },
     "metadata": {},
     "output_type": "display_data"
    },
    {
     "data": {
      "image/png": "[encoded data removed]",
      "text/plain": [
       "<Figure size 432x288 with 2 Axes>"
      ]
     },
     "metadata": {
      "needs_background": "light"
     },
     "output_type": "display_data"
    }
   ],
   "source": [
    "from sklearn.metrics import confusion_matrix, plot_confusion_matrix\n",
    "confusion = confusion_matrix(y_test, preds)\n",
    "print(confusion)\n",
    "plt.figure(figsize=(10,10))\n",
    "plot_confusion_matrix(bbc, x_test, y_test)"
   ]
  },
  {
   "cell_type": "code",
   "execution_count": 26,
   "id": "a3781b1d",
   "metadata": {},
   "outputs": [
    {
     "data": {
      "text/plain": [
       "0.5789722809868642"
      ]
     },
     "execution_count": 26,
     "metadata": {},
     "output_type": "execute_result"
    }
   ],
   "source": [
    "# evaluate model\n",
    "from sklearn.metrics import roc_auc_score\n",
    "roc_auc_score(y_test, preds)"
   ]
  },
  {
   "cell_type": "markdown",
   "id": "046b390b",
   "metadata": {},
   "source": [
    "# Over-Sampeling "
   ]
  },
  {
   "cell_type": "code",
   "execution_count": 36,
   "id": "5f2905d7",
   "metadata": {},
   "outputs": [],
   "source": [
    "count_class_0, count_class_1 = df_filtered.loss.value_counts()\n",
    "\n",
    "df_class_0 = df_filtered[df_filtered['loss'] == 0]\n",
    "df_class_1 = df_filtered[df_filtered['loss'] == 1]"
   ]
  },
  {
   "cell_type": "code",
   "execution_count": 39,
   "id": "4cba38d1",
   "metadata": {},
   "outputs": [
    {
     "name": "stdout",
     "output_type": "stream",
     "text": [
      "Random over-sampling:\n",
      "0    95688\n",
      "1    95688\n",
      "Name: loss, dtype: int64\n"
     ]
    },
    {
     "data": {
      "image/png": "[encoded data removed]",
      "text/plain": [
       "<Figure size 432x288 with 1 Axes>"
      ]
     },
     "metadata": {
      "needs_background": "light"
     },
     "output_type": "display_data"
    }
   ],
   "source": [
    "df_class_1_over = df_class_1.sample(count_class_0, replace=True)\n",
    "df_test_over = pd.concat([df_class_0, df_class_1_over], axis=0)\n",
    "\n",
    "print('Random over-sampling:')\n",
    "print(df_test_over.loss.value_counts())\n",
    "\n",
    "df_test_over.loss.value_counts().plot(kind='bar', title='Count (loss)');"
   ]
  },
  {
   "cell_type": "code",
   "execution_count": 40,
   "id": "a6b926fa",
   "metadata": {},
   "outputs": [],
   "source": [
    "from sklearn.model_selection import train_test_split\n",
    "\n",
    "x = df_test_over.drop(columns=[\"loss\"]).fillna(0).to_numpy()\n",
    "y = df_test_over['loss'].to_numpy()\n",
    "\n",
    "x_train, x_test, y_train, y_test = train_test_split(x, y, test_size=0.33, random_state=8)"
   ]
  },
  {
   "cell_type": "code",
   "execution_count": 41,
   "id": "e5435794",
   "metadata": {},
   "outputs": [
    {
     "data": {
      "text/plain": [
       "0.9321015527615494"
      ]
     },
     "execution_count": 41,
     "metadata": {},
     "output_type": "execute_result"
    }
   ],
   "source": [
    "#knn\n",
    "from sklearn.neighbors import KNeighborsClassifier\n",
    "\n",
    "model = KNeighborsClassifier(n_neighbors=2)\n",
    "\n",
    "# Train the model using the training sets\n",
    "model.fit(x_train,y_train)\n",
    "\n",
    "#Predict Output\n",
    "pred = model.predict(x_test)\n",
    "roc_auc_score(y_test, pred)"
   ]
  },
  {
   "cell_type": "code",
   "execution_count": 42,
   "id": "09e11986",
   "metadata": {},
   "outputs": [
    {
     "name": "stdout",
     "output_type": "stream",
     "text": [
      "[[27603  3999]\n",
      " [  292 31261]]\n"
     ]
    },
    {
     "data": {
      "text/plain": [
       "<sklearn.metrics._plot.confusion_matrix.ConfusionMatrixDisplay at 0x131db3f40>"
      ]
     },
     "execution_count": 42,
     "metadata": {},
     "output_type": "execute_result"
    },
    {
     "data": {
      "image/png": "[encoded data removed]",
      "text/plain": [
       "<Figure size 432x288 with 2 Axes>"
      ]
     },
     "metadata": {
      "needs_background": "light"
     },
     "output_type": "display_data"
    }
   ],
   "source": [
    "confusion = confusion_matrix(y_test, pred)\n",
    "print(confusion)\n",
    "plot_confusion_matrix(model, x_test, y_test)"
   ]
  },
  {
   "cell_type": "code",
   "execution_count": null,
   "id": "780a217c",
   "metadata": {},
   "outputs": [],
   "source": []
  }
 ],
 "metadata": {
  "kernelspec": {
   "display_name": "Python 3 (ipykernel)",
   "language": "python",
   "name": "python3"
  },
  "language_info": {
   "codemirror_mode": {
    "name": "ipython",
    "version": 3
   },
   "file_extension": ".py",
   "mimetype": "text/x-python",
   "name": "python",
   "nbconvert_exporter": "python",
   "pygments_lexer": "ipython3",
   "version": "3.9.7"
  }
 },
 "nbformat": 4,
 "nbformat_minor": 5
}
